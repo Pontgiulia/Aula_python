{
  "nbformat": 4,
  "nbformat_minor": 0,
  "metadata": {
    "colab": {
      "provenance": [],
      "authorship_tag": "ABX9TyOSfvlmVnspQNiXsvTfvaH0",
      "include_colab_link": true
    },
    "kernelspec": {
      "name": "python3",
      "display_name": "Python 3"
    },
    "language_info": {
      "name": "python"
    }
  },
  "cells": [
    {
      "cell_type": "markdown",
      "metadata": {
        "id": "view-in-github",
        "colab_type": "text"
      },
      "source": [
        "<a href=\"https://colab.research.google.com/github/Pontgiulia/Aula_python/blob/main/Exerc%C3%ADcio_Fun%C3%A7%C3%B5es.ipynb\" target=\"_parent\"><img src=\"https://colab.research.google.com/assets/colab-badge.svg\" alt=\"Open In Colab\"/></a>"
      ]
    },
    {
      "cell_type": "markdown",
      "source": [
        "\n",
        "\n",
        "**Lista de exercícios - Funções em Python**\n",
        "\n"
      ],
      "metadata": {
        "id": "U1MLpKXXa2u_"
      }
    },
    {
      "cell_type": "markdown",
      "source": [
        "**Exercício 1:** Crie um uma função, que recebe 3 parâmetros e tenha um retorno em python. Ela deve calcular o quanto o usuário irá gastar de gasolina. Para isso o usuário deverá informar:\n",
        "- Quantos KM irá viajar\n",
        "- Quantos KM o carro consome por litro de gasolina\n",
        "- Qual o Preço da Gasolina"
      ],
      "metadata": {
        "id": "_Ccv_goEbWWP"
      }
    },
    {
      "cell_type": "code",
      "execution_count": null,
      "metadata": {
        "id": "7t11Fp_hhxIg",
        "colab": {
          "base_uri": "https://localhost:8080/"
        },
        "outputId": "94f6977b-ce0e-4a53-c148-c661df99677d"
      },
      "outputs": [
        {
          "name": "stdout",
          "output_type": "stream",
          "text": [
            "Quantos KM irão ser percorridos? 500\n",
            "Quantos KM o carro consome por litro? 9\n",
            "Qual o preço da gasolina? 4\n"
          ]
        }
      ],
      "source": [
        "KM = int(input(\"Quantos KM irão ser percorridos? \"))\n",
        "LI = int(input(\"Quantos KM o carro consome por litro? \"))\n",
        "VA = int(input(\"Qual o preço da gasolina? \"))\n",
        "def valo(KM, LI, VA):\n",
        "  valor = (KM/LI*VA)\n",
        "  return valor"
      ]
    },
    {
      "cell_type": "code",
      "source": [
        "total = valo(KM, LI, VA)"
      ],
      "metadata": {
        "id": "1LaGi5JDlgpd"
      },
      "execution_count": null,
      "outputs": []
    },
    {
      "cell_type": "code",
      "source": [
        "print(\"Você irá gastar: \", total)"
      ],
      "metadata": {
        "colab": {
          "base_uri": "https://localhost:8080/"
        },
        "id": "l39xxtfroRY0",
        "outputId": "2baae15e-2839-40b9-e0aa-d20491230e07"
      },
      "execution_count": null,
      "outputs": [
        {
          "output_type": "stream",
          "name": "stdout",
          "text": [
            "Você irá gastar:  222.22222222222223\n"
          ]
        }
      ]
    },
    {
      "cell_type": "markdown",
      "source": [
        "**Exercício 2:** Crie uma função que receba como parâmetro um texto qualquer, dentro dessa função\n",
        "deverá ter um laço de repetição que percorra cada letra do texto e retorne a quantidade de vogais encontradas nesse texto. Dentro da função deverá conter:\n",
        "\n",
        "-Uma string assim: vogaisstring = aeiouAEIOU\n",
        "\n",
        "ou\n",
        "\n",
        "-uma lista assim: vogaislista = ['a','e', 'i', 'o', 'u', 'A', 'E', 'I', 'O', 'U']"
      ],
      "metadata": {
        "id": "Nz_E0jSvblKH"
      }
    },
    {
      "cell_type": "code",
      "source": [
        "textinho = (\"Borboletinha tá na cozinha, Fazendo chocolate para a madrinha, Poti-poti, Perna de pau, Olho de vidro, E nariz de pica-pau, Pau-pau\")\n",
        "\n",
        "def an(textinho):\n",
        "  volist = ['a','e', 'i', 'o', 'u', 'A', 'E', 'I', 'O', 'U']\n",
        "  voqntd = 0\n",
        "  for vovo in textinho:\n",
        "    if vovo in volist:\n",
        "      voqntd += 1\n",
        "  return voqntd"
      ],
      "metadata": {
        "id": "MP9QO4ZYb43Q"
      },
      "execution_count": null,
      "outputs": []
    },
    {
      "cell_type": "code",
      "source": [
        "an(textinho)"
      ],
      "metadata": {
        "colab": {
          "base_uri": "https://localhost:8080/"
        },
        "id": "pJDVo2rgsnOz",
        "outputId": "2ba80337-abd3-43b9-a3ff-6c79e74f2e4a"
      },
      "execution_count": null,
      "outputs": [
        {
          "output_type": "execute_result",
          "data": {
            "text/plain": [
              "48"
            ]
          },
          "metadata": {},
          "execution_count": 6
        }
      ]
    },
    {
      "cell_type": "markdown",
      "source": [
        "**Exercício 3:** Traga mais de um retorno:\n",
        "\n",
        "-Primeiro uma lista de artigos e em seguida sua quantidade\n",
        "\n",
        "-Depois a lista de preposições e sua quantidade\n",
        "\n",
        "-Depois a lista de Pronomes (todo os tipos) e em seguida sua quantidade."
      ],
      "metadata": {
        "id": "NHYsmh5acHKh"
      }
    },
    {
      "cell_type": "code",
      "source": [
        "!python -m spacy download pt_core_news_sm"
      ],
      "metadata": {
        "colab": {
          "base_uri": "https://localhost:8080/"
        },
        "id": "Z9rfvLiUtRkC",
        "outputId": "00443405-fa26-4dc1-cea0-ed3da602db03"
      },
      "execution_count": null,
      "outputs": [
        {
          "output_type": "stream",
          "name": "stdout",
          "text": [
            "2023-11-16 21:40:47.516307: E tensorflow/compiler/xla/stream_executor/cuda/cuda_dnn.cc:9342] Unable to register cuDNN factory: Attempting to register factory for plugin cuDNN when one has already been registered\n",
            "2023-11-16 21:40:47.516385: E tensorflow/compiler/xla/stream_executor/cuda/cuda_fft.cc:609] Unable to register cuFFT factory: Attempting to register factory for plugin cuFFT when one has already been registered\n",
            "2023-11-16 21:40:47.516428: E tensorflow/compiler/xla/stream_executor/cuda/cuda_blas.cc:1518] Unable to register cuBLAS factory: Attempting to register factory for plugin cuBLAS when one has already been registered\n",
            "2023-11-16 21:40:47.528028: I tensorflow/core/platform/cpu_feature_guard.cc:182] This TensorFlow binary is optimized to use available CPU instructions in performance-critical operations.\n",
            "To enable the following instructions: AVX2 FMA, in other operations, rebuild TensorFlow with the appropriate compiler flags.\n",
            "2023-11-16 21:40:48.894472: W tensorflow/compiler/tf2tensorrt/utils/py_utils.cc:38] TF-TRT Warning: Could not find TensorRT\n",
            "Collecting pt-core-news-sm==3.6.0\n",
            "  Downloading https://github.com/explosion/spacy-models/releases/download/pt_core_news_sm-3.6.0/pt_core_news_sm-3.6.0-py3-none-any.whl (13.0 MB)\n",
            "\u001b[2K     \u001b[90m━━━━━━━━━━━━━━━━━━━━━━━━━━━━━━━━━━━━━━━━\u001b[0m \u001b[32m13.0/13.0 MB\u001b[0m \u001b[31m48.3 MB/s\u001b[0m eta \u001b[36m0:00:00\u001b[0m\n",
            "\u001b[?25hRequirement already satisfied: spacy<3.7.0,>=3.6.0 in /usr/local/lib/python3.10/dist-packages (from pt-core-news-sm==3.6.0) (3.6.1)\n",
            "Requirement already satisfied: spacy-legacy<3.1.0,>=3.0.11 in /usr/local/lib/python3.10/dist-packages (from spacy<3.7.0,>=3.6.0->pt-core-news-sm==3.6.0) (3.0.12)\n",
            "Requirement already satisfied: spacy-loggers<2.0.0,>=1.0.0 in /usr/local/lib/python3.10/dist-packages (from spacy<3.7.0,>=3.6.0->pt-core-news-sm==3.6.0) (1.0.5)\n",
            "Requirement already satisfied: murmurhash<1.1.0,>=0.28.0 in /usr/local/lib/python3.10/dist-packages (from spacy<3.7.0,>=3.6.0->pt-core-news-sm==3.6.0) (1.0.10)\n",
            "Requirement already satisfied: cymem<2.1.0,>=2.0.2 in /usr/local/lib/python3.10/dist-packages (from spacy<3.7.0,>=3.6.0->pt-core-news-sm==3.6.0) (2.0.8)\n",
            "Requirement already satisfied: preshed<3.1.0,>=3.0.2 in /usr/local/lib/python3.10/dist-packages (from spacy<3.7.0,>=3.6.0->pt-core-news-sm==3.6.0) (3.0.9)\n",
            "Requirement already satisfied: thinc<8.2.0,>=8.1.8 in /usr/local/lib/python3.10/dist-packages (from spacy<3.7.0,>=3.6.0->pt-core-news-sm==3.6.0) (8.1.12)\n",
            "Requirement already satisfied: wasabi<1.2.0,>=0.9.1 in /usr/local/lib/python3.10/dist-packages (from spacy<3.7.0,>=3.6.0->pt-core-news-sm==3.6.0) (1.1.2)\n",
            "Requirement already satisfied: srsly<3.0.0,>=2.4.3 in /usr/local/lib/python3.10/dist-packages (from spacy<3.7.0,>=3.6.0->pt-core-news-sm==3.6.0) (2.4.8)\n",
            "Requirement already satisfied: catalogue<2.1.0,>=2.0.6 in /usr/local/lib/python3.10/dist-packages (from spacy<3.7.0,>=3.6.0->pt-core-news-sm==3.6.0) (2.0.10)\n",
            "Requirement already satisfied: typer<0.10.0,>=0.3.0 in /usr/local/lib/python3.10/dist-packages (from spacy<3.7.0,>=3.6.0->pt-core-news-sm==3.6.0) (0.9.0)\n",
            "Requirement already satisfied: pathy>=0.10.0 in /usr/local/lib/python3.10/dist-packages (from spacy<3.7.0,>=3.6.0->pt-core-news-sm==3.6.0) (0.10.3)\n",
            "Requirement already satisfied: smart-open<7.0.0,>=5.2.1 in /usr/local/lib/python3.10/dist-packages (from spacy<3.7.0,>=3.6.0->pt-core-news-sm==3.6.0) (6.4.0)\n",
            "Requirement already satisfied: tqdm<5.0.0,>=4.38.0 in /usr/local/lib/python3.10/dist-packages (from spacy<3.7.0,>=3.6.0->pt-core-news-sm==3.6.0) (4.66.1)\n",
            "Requirement already satisfied: numpy>=1.15.0 in /usr/local/lib/python3.10/dist-packages (from spacy<3.7.0,>=3.6.0->pt-core-news-sm==3.6.0) (1.23.5)\n",
            "Requirement already satisfied: requests<3.0.0,>=2.13.0 in /usr/local/lib/python3.10/dist-packages (from spacy<3.7.0,>=3.6.0->pt-core-news-sm==3.6.0) (2.31.0)\n",
            "Requirement already satisfied: pydantic!=1.8,!=1.8.1,<3.0.0,>=1.7.4 in /usr/local/lib/python3.10/dist-packages (from spacy<3.7.0,>=3.6.0->pt-core-news-sm==3.6.0) (1.10.13)\n",
            "Requirement already satisfied: jinja2 in /usr/local/lib/python3.10/dist-packages (from spacy<3.7.0,>=3.6.0->pt-core-news-sm==3.6.0) (3.1.2)\n",
            "Requirement already satisfied: setuptools in /usr/local/lib/python3.10/dist-packages (from spacy<3.7.0,>=3.6.0->pt-core-news-sm==3.6.0) (67.7.2)\n",
            "Requirement already satisfied: packaging>=20.0 in /usr/local/lib/python3.10/dist-packages (from spacy<3.7.0,>=3.6.0->pt-core-news-sm==3.6.0) (23.2)\n",
            "Requirement already satisfied: langcodes<4.0.0,>=3.2.0 in /usr/local/lib/python3.10/dist-packages (from spacy<3.7.0,>=3.6.0->pt-core-news-sm==3.6.0) (3.3.0)\n",
            "Requirement already satisfied: typing-extensions>=4.2.0 in /usr/local/lib/python3.10/dist-packages (from pydantic!=1.8,!=1.8.1,<3.0.0,>=1.7.4->spacy<3.7.0,>=3.6.0->pt-core-news-sm==3.6.0) (4.5.0)\n",
            "Requirement already satisfied: charset-normalizer<4,>=2 in /usr/local/lib/python3.10/dist-packages (from requests<3.0.0,>=2.13.0->spacy<3.7.0,>=3.6.0->pt-core-news-sm==3.6.0) (3.3.2)\n",
            "Requirement already satisfied: idna<4,>=2.5 in /usr/local/lib/python3.10/dist-packages (from requests<3.0.0,>=2.13.0->spacy<3.7.0,>=3.6.0->pt-core-news-sm==3.6.0) (3.4)\n",
            "Requirement already satisfied: urllib3<3,>=1.21.1 in /usr/local/lib/python3.10/dist-packages (from requests<3.0.0,>=2.13.0->spacy<3.7.0,>=3.6.0->pt-core-news-sm==3.6.0) (2.0.7)\n",
            "Requirement already satisfied: certifi>=2017.4.17 in /usr/local/lib/python3.10/dist-packages (from requests<3.0.0,>=2.13.0->spacy<3.7.0,>=3.6.0->pt-core-news-sm==3.6.0) (2023.7.22)\n",
            "Requirement already satisfied: blis<0.8.0,>=0.7.8 in /usr/local/lib/python3.10/dist-packages (from thinc<8.2.0,>=8.1.8->spacy<3.7.0,>=3.6.0->pt-core-news-sm==3.6.0) (0.7.11)\n",
            "Requirement already satisfied: confection<1.0.0,>=0.0.1 in /usr/local/lib/python3.10/dist-packages (from thinc<8.2.0,>=8.1.8->spacy<3.7.0,>=3.6.0->pt-core-news-sm==3.6.0) (0.1.3)\n",
            "Requirement already satisfied: click<9.0.0,>=7.1.1 in /usr/local/lib/python3.10/dist-packages (from typer<0.10.0,>=0.3.0->spacy<3.7.0,>=3.6.0->pt-core-news-sm==3.6.0) (8.1.7)\n",
            "Requirement already satisfied: MarkupSafe>=2.0 in /usr/local/lib/python3.10/dist-packages (from jinja2->spacy<3.7.0,>=3.6.0->pt-core-news-sm==3.6.0) (2.1.3)\n",
            "Installing collected packages: pt-core-news-sm\n",
            "Successfully installed pt-core-news-sm-3.6.0\n",
            "\u001b[38;5;2m✔ Download and installation successful\u001b[0m\n",
            "You can now load the package via spacy.load('pt_core_news_sm')\n"
          ]
        }
      ]
    },
    {
      "cell_type": "code",
      "source": [
        "import spacy\n",
        "nlp = spacy.load(\"pt_core_news_sm\")"
      ],
      "metadata": {
        "id": "yn8tQbO1cRVj"
      },
      "execution_count": null,
      "outputs": []
    },
    {
      "cell_type": "markdown",
      "source": [
        "Substantivo (Noun): \"NOUN\"\n",
        "\n",
        "Pronome (Pronoun): \"PRON\"\n",
        "\n",
        "Verbo (Verb): \"VERB\"\n",
        "\n",
        "Adjetivo (Adjective): \"ADJ\"\n",
        "\n",
        "Advérbio (Adverb): \"ADV\"\n",
        "\n",
        "Preposição (Preposition): \"ADP\"\n",
        "\n",
        "Conjunção (Conjunction): \"CCONJ\" (para conjunções coordenativas) ou \"SCONJ\" (para\n",
        "\n",
        "conjunções subordinativas)\n",
        "\n",
        "Artigo (Article): \"DET\"\n",
        "\n",
        "Numeral (Numeral): \"NUM\"\n",
        "\n",
        "Interjeição (Interjection): \"INTJ\"\n",
        "\n",
        "Partícula (Particle): \"PART\" (para palavras que não se encaixam em outras categorias\n",
        "gramaticais)\n",
        "\n",
        "Pronome Possessivo (Possessive Pronoun): \"PRP$\"\n",
        "\n",
        "Pronome Reflexivo (Reflexive Pronoun): \"PRP\"\n",
        "\n",
        "Determinador (Determiner): \"DET\"\n",
        "\n",
        "Verbo Auxiliar (Auxiliary Verb): \"AUX\"\n",
        "\n",
        "Pontuação (Punctuation): \"PUNCT\"\n",
        "\n",
        "Espaço em Branco (Whitespace): \"SPACE\""
      ],
      "metadata": {
        "id": "zl0dCKQ0FaVD"
      }
    },
    {
      "cell_type": "code",
      "source": [
        "texto = '''A menina é inteligente e estuda matemática na escola, ela também adora aulas de programação e fica muito feliz quando consegue terminar um exercício'''\n",
        "\n",
        "doc = nlp(texto)\n",
        "quantidade_artigos = 0\n",
        "quantidade_preposicoes = 0\n",
        "quantidade_pronomes = 0\n",
        "\n",
        "for token in doc:\n",
        "    if token.pos_ == 'DET' and token.dep_ == 'det':\n",
        "        quantidade_artigos += 1\n",
        "    elif token.pos_ == 'ADP':\n",
        "        quantidade_preposicoes += 1\n",
        "    elif token.pos_ == 'PRON' or 'PRP$' or 'PRP' :\n",
        "        quantidade_pronomes += 1\n",
        "\n",
        "print(f\"Quantidade de artigos definidos: {quantidade_artigos}\")\n",
        "print(f\"Quantidade de preposições: {quantidade_preposicoes}\")\n",
        "print(f\"Quantidade de pronomes: {quantidade_pronomes}\")"
      ],
      "metadata": {
        "id": "3Nr1mpBictc8",
        "colab": {
          "base_uri": "https://localhost:8080/"
        },
        "outputId": "865b5e61-3420-4751-f63d-e4880b489df6"
      },
      "execution_count": null,
      "outputs": [
        {
          "output_type": "stream",
          "name": "stdout",
          "text": [
            "Quantidade de artigos definidos: 2\n",
            "Quantidade de preposições: 2\n",
            "Quantidade de pronomes: 21\n"
          ]
        }
      ]
    }
  ]
}